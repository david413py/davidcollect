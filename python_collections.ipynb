{
  "nbformat": 4,
  "nbformat_minor": 0,
  "metadata": {
    "colab": {
      "provenance": [],
      "authorship_tag": "ABX9TyMxv6kvQaHMBcdt2u9zk1+f",
      "include_colab_link": true
    },
    "kernelspec": {
      "name": "python3",
      "display_name": "Python 3"
    },
    "language_info": {
      "name": "python"
    }
  },
  "cells": [
    {
      "cell_type": "markdown",
      "metadata": {
        "id": "view-in-github",
        "colab_type": "text"
      },
      "source": [
        "<a href=\"https://colab.research.google.com/github/david413py/davidcollect/blob/main/python_collections.ipynb\" target=\"_parent\"><img src=\"https://colab.research.google.com/assets/colab-badge.svg\" alt=\"Open In Colab\"/></a>"
      ]
    },
    {
      "cell_type": "markdown",
      "source": [
        "**list**"
      ],
      "metadata": {
        "id": "T-0ubG9yHoNW"
      }
    },
    {
      "cell_type": "code",
      "source": [
        "list=[1,40,5,38,2,7]\n",
        "list.sort()\n",
        "print(list)\n",
        "list=[\"oranges\",\"mangoes\",\"apples\"]\n",
        "print(list[2])"
      ],
      "metadata": {
        "colab": {
          "base_uri": "https://localhost:8080/"
        },
        "id": "HoicD2sZIs8n",
        "outputId": "1ca4a971-5be5-432a-a9b4-2e2bca66b02b"
      },
      "execution_count": null,
      "outputs": [
        {
          "output_type": "stream",
          "name": "stdout",
          "text": [
            "[1, 2, 5, 7, 38, 40]\n",
            "apples\n"
          ]
        }
      ]
    },
    {
      "cell_type": "markdown",
      "source": [
        "**my** **set**"
      ],
      "metadata": {
        "id": "2-ofj5ByJd70"
      }
    },
    {
      "cell_type": "code",
      "source": [
        "#myset={items}\n",
        "fruits={'oranges','mangoes','passion'}\n",
        "print(fruits)"
      ],
      "metadata": {
        "colab": {
          "base_uri": "https://localhost:8080/"
        },
        "id": "c0SCOwtuJipn",
        "outputId": "c4330d6e-c977-423a-9a20-5f669ecff443"
      },
      "execution_count": null,
      "outputs": [
        {
          "output_type": "stream",
          "name": "stdout",
          "text": [
            "{'mangoes', 'passion', 'oranges'}\n"
          ]
        }
      ]
    },
    {
      "cell_type": "markdown",
      "source": [
        "**units**"
      ],
      "metadata": {
        "id": "kKyK7A0YJu6o"
      }
    },
    {
      "cell_type": "code",
      "source": [
        "#units=set((units))\n",
        "units=set([\"topo\",\"python\",\"gis\",])\n",
        "print(units)\n",
        "for x in fruits:\n",
        "    print(x)\n",
        "print([\"mangoes\"in fruits])\n",
        "print([\"avocadoes\" in fruits])\n",
        "print([\"avocadoes\"not in fruits])\n",
        "fruits.add(\"avocadoes\")\n",
        "print(fruits)"
      ],
      "metadata": {
        "colab": {
          "base_uri": "https://localhost:8080/"
        },
        "id": "tnsTVdZzJyJc",
        "outputId": "dba646fa-ee7e-4816-b43c-c24e57b77227"
      },
      "execution_count": null,
      "outputs": [
        {
          "output_type": "stream",
          "name": "stdout",
          "text": [
            "{'python', 'gis', 'topo'}\n",
            "mangoes\n",
            "passion\n",
            "oranges\n",
            "[True]\n",
            "[False]\n",
            "[True]\n",
            "{'avocadoes', 'mangoes', 'passion', 'oranges'}\n"
          ]
        }
      ]
    },
    {
      "cell_type": "markdown",
      "source": [
        "**addsets**"
      ],
      "metadata": {
        "id": "TgQOR6odJ-3h"
      }
    },
    {
      "cell_type": "code",
      "source": [
        "#addsets\n",
        "year1={\"python\",\"gis\"}\n",
        "year2={\"maths\",\"geo\"}\n",
        "year1.update(year2)\n",
        "print(year1)\n",
        "fruits.remove(\"passion\")\n",
        "print(fruits)\n",
        "print(fruits)\n"
      ],
      "metadata": {
        "colab": {
          "base_uri": "https://localhost:8080/"
        },
        "id": "bGP8ycsfKDzY",
        "outputId": "08dc8ffe-cda7-440f-eaa9-964dfec426d8"
      },
      "execution_count": null,
      "outputs": [
        {
          "output_type": "stream",
          "name": "stdout",
          "text": [
            "{'maths', 'geo', 'python', 'gis'}\n",
            "{'avocadoes', 'mangoes', 'oranges'}\n",
            "{'avocadoes', 'mangoes', 'oranges'}\n"
          ]
        }
      ]
    },
    {
      "cell_type": "markdown",
      "source": [
        "**tuples**"
      ],
      "metadata": {
        "id": "wTA_fF7dKeKF"
      }
    },
    {
      "cell_type": "code",
      "source": [
        "#tuples\n",
        "fruits=(\"chichi\",\"kiwi\",\"mango\")\n",
        "print(fruits)\n",
        "print(len(fruits))\n",
        "fruits=(\"chichi\",)\n",
        "print(fruits)\n",
        "mytuple=('chichi','1','True','python')\n",
        "print(mytuple)\n",
        "fruits=(\"chichi\",\"kiwi\",\"mango\")\n",
        "print(fruits[0])\n",
        "print(fruits[-2])"
      ],
      "metadata": {
        "colab": {
          "base_uri": "https://localhost:8080/"
        },
        "id": "_zNXWnNUKhbR",
        "outputId": "92bf4467-6625-4da9-bd25-e588235bb171"
      },
      "execution_count": null,
      "outputs": [
        {
          "output_type": "stream",
          "name": "stdout",
          "text": [
            "('chichi', 'kiwi', 'mango')\n",
            "3\n",
            "('chichi',)\n",
            "('chichi', '1', 'True', 'python')\n",
            "chichi\n",
            "kiwi\n"
          ]
        }
      ]
    },
    {
      "cell_type": "markdown",
      "source": [
        "**update** **tuple**"
      ],
      "metadata": {
        "id": "qABP6Vg0LB7L"
      }
    },
    {
      "cell_type": "code",
      "source": [
        "#update tuple\n",
        "grades=(10,50,100)\n",
        "gradelist= [10,50,100]\n",
        "gradelist.append(80)\n",
        "print(gradelist)\n",
        "gradelist.remove(100)\n",
        "print(gradelist)"
      ],
      "metadata": {
        "colab": {
          "base_uri": "https://localhost:8080/"
        },
        "id": "P-PqjqDWLISm",
        "outputId": "2dbf9ded-7195-411b-fb53-4799310b8cd1"
      },
      "execution_count": null,
      "outputs": [
        {
          "output_type": "stream",
          "name": "stdout",
          "text": [
            "[10, 50, 100, 80]\n",
            "[10, 50, 80]\n"
          ]
        }
      ]
    },
    {
      "cell_type": "markdown",
      "source": [
        "**dictionaries**"
      ],
      "metadata": {
        "id": "KaIE9v5kLR9N"
      }
    },
    {
      "cell_type": "code",
      "source": [
        "#dictionary\n",
        "david=dict(age=22,\n",
        "       height=1.2,\n",
        "       team=\"bravo\")\n",
        "print(david)\n",
        "david=dict(age=22,height=1.2,team=\"bravo\")\n",
        "print(david)\n",
        "print(david[\"height\"])\n",
        "print(david.get(\"age\"))\n",
        "print(david.keys())\n",
        "print(david.values())\n",
        "david[\"height\"]=1.2\n",
        "print(david)\n",
        "david.update({\"age\":24})\n",
        "print(david)"
      ],
      "metadata": {
        "colab": {
          "base_uri": "https://localhost:8080/"
        },
        "id": "BFgfeEaRLcxc",
        "outputId": "598845fd-bb36-4a6e-e5f4-eb5a91c12ce7"
      },
      "execution_count": null,
      "outputs": [
        {
          "output_type": "stream",
          "name": "stdout",
          "text": [
            "{'age': 22, 'height': 1.2, 'team': 'bravo'}\n",
            "{'age': 22, 'height': 1.2, 'team': 'bravo'}\n",
            "1.2\n",
            "22\n",
            "dict_keys(['age', 'height', 'team'])\n",
            "dict_values([22, 1.2, 'bravo'])\n",
            "{'age': 22, 'height': 1.2, 'team': 'bravo'}\n",
            "{'age': 24, 'height': 1.2, 'team': 'bravo'}\n"
          ]
        }
      ]
    }
  ]
}